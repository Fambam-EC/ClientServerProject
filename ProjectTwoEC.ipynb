{
 "cells": [
  {
   "cell_type": "code",
   "execution_count": 20,
   "metadata": {
    "scrolled": false
   },
   "outputs": [
    {
     "data": {
      "text/html": [
       "<div>\n",
       "  <iframe src=\"/app/endpoints/132ef82a126d41d493dea862d6d6a3f1/\" width=800 height=600 frameborder=\"0\"></iframe>\n",
       "  <hr/><a href=\"/app/endpoints/132ef82a126d41d493dea862d6d6a3f1/\" target=\"_new\">Open in new window</a> for /app/endpoints/132ef82a126d41d493dea862d6d6a3f1/\n",
       "</div>"
      ],
      "text/plain": [
       "<jupyter_plotly_dash.dash_wrapper.JupyterDash at 0x7f8b718892b0>"
      ]
     },
     "execution_count": 20,
     "metadata": {},
     "output_type": "execute_result"
    }
   ],
   "source": [
    "from jupyter_plotly_dash import JupyterDash\n",
    "\n",
    "import dash\n",
    "import dash_leaflet as dl\n",
    "import dash_core_components as dcc\n",
    "import dash_html_components as html\n",
    "import plotly.express as px\n",
    "import dash_table\n",
    "from dash.dependencies import Input, Output\n",
    "import base64\n",
    "\n",
    "\n",
    "import numpy as np\n",
    "import pandas as pd\n",
    "import matplotlib.pyplot as plt\n",
    "from pymongo import MongoClient\n",
    "\n",
    "\n",
    "#### FIX ME #####\n",
    "# change animal_shelter and AnimalShelter to match your CRUD Python module file name and class name\n",
    "from ECCRUD import AnimalShelter\n",
    "\n",
    "\n",
    "\n",
    "###########################\n",
    "# Data Manipulation / Model\n",
    "###########################\n",
    "# FIX ME update with your username and password and CRUD Python module name\n",
    "\n",
    "username = \"aacuser\"\n",
    "password = \"Password\"\n",
    "shelter = AnimalShelter(username, password)\n",
    "\n",
    "\n",
    "# class read method must support return of cursor object and accept projection json input\n",
    "df = pd.DataFrame.from_records(shelter.read({})).drop('_id', axis = 1)\n",
    "\n",
    "\n",
    "\n",
    "\n",
    "\n",
    "#########################\n",
    "# Dashboard Layout / View\n",
    "#########################\n",
    "app = JupyterDash('SimpleExample')\n",
    "\n",
    "image_filename = 'GS Logo.png' # customer image\n",
    "encoded_image = base64.b64encode(open(image_filename, 'rb').read())\n",
    "\n",
    "app.layout = html.Div([\n",
    "    html.Div(id='hidden-div', style={'display':'none'}),\n",
    "    html.Center(html.B(html.H1('Grazioso AAC Data Ethan Cook'))),\n",
    "    html.Hr(),\n",
    "    html.Img(id='customer-image',src='data:image/png;base64,{}'.format(encoded_image.decode()),alt='customer image', style={'height':'10%', 'width':'10%'}),\n",
    "    html.Div(className='row',\n",
    "             style={'display' : 'flex'},\n",
    "                  children=[\n",
    "                          html.Button(id='submit-button-one', n_clicks=0, children='Water Rescue'),\n",
    "                          html.Button(id='submit-button-two', n_clicks=0, children='Mountain or Wilderness'),\n",
    "                          html.Button(id='submit-button-three', n_clicks=0, children='Disaster or Individual Tracking'),\n",
    "                          html.Button(id='submit-button-four', n_clicks=0, children='Reset')\n",
    "                  ]),\n",
    "    dash_table.DataTable(\n",
    "        id='datatable-id',\n",
    "        columns=[\n",
    "            {\"name\": i, \"id\": i, \"deletable\": False, \"selectable\": True} for i in df.columns\n",
    "        ],\n",
    "        data=df.to_dict('records'),\n",
    "        editable=False,\n",
    "        filter_action=\"native\",\n",
    "        sort_action=\"native\",\n",
    "        sort_mode=\"multi\",\n",
    "        column_selectable=True,\n",
    "        row_selectable=False,\n",
    "        row_deletable=False,\n",
    "        selected_columns=[],\n",
    "        selected_rows=[],\n",
    "        page_action=\"native\",\n",
    "        page_current= 0,\n",
    "        page_size= 10,\n",
    "        #FIXME: Set up the features for your interactive data table to make it user-friendly for your client\n",
    "\n",
    "    ),\n",
    "    html.Br(),\n",
    "     html.Hr(),\n",
    "     html.Div(\n",
    "            id='map-id',\n",
    "            className='col s12 m6',\n",
    "            )\n",
    "])\n",
    "\n",
    "\n",
    "\n",
    "#############################################\n",
    "# Interaction Between Components / Controller\n",
    "#############################################\n",
    "@app.callback(\n",
    "    Output('datatable-id', 'style_data_conditional'),\n",
    "    [Input('datatable-id', 'selected_columns')]\n",
    ")\n",
    "\n",
    "def update_styles(selected_columns):\n",
    "    return [{\n",
    "        'if': { 'column_id': i },\n",
    "        'background_color': '#74FF33'\n",
    "    } for i in selected_columns]\n",
    "\n",
    "def on_click(bt1,bt2):\n",
    "    # start case\n",
    "    if (int(bt1) == 0 and int(bt2) == 0 and int(bt3) == 0 and int(bt4) == 0):\n",
    "        df = pd.DataFrame.from_records(shelter.read({})).drop('_id', axis = 1)\n",
    "    # use higher number of button clicks to determine filter type, can you think of a better way ? ....\n",
    "    elif (int(bt1) > int(bt2)):\n",
    "        df = pd.DataFrame(list(shelter.read({\"animal_type\":\"Dog\", \"breed\":{\"$in\":[\"Labrador Retriever Mix\",\"Chesapeake Bay Retriever\",\"Newfoundland\"]},\"sex_upon_outcome\":\"Intact Female\",\"age_upon_outcome_in_weeks\":{\"$gte\":26},\"age_upon_outcome_in_weeks\":{\"$lte\":156}}))).drop('_id', axis = 1)\n",
    "    elif (int(bt2) > int(bt1)):\n",
    "        df = pd.DataFrame(list(shelter.read({\"animal_type\":\"Dog\", \"breed\":{\"$in\":[\"German Sheperd\", \"Alaskan Malamute\", \"Old English Sheepdog\", \"Siberian Husky\",\"Rottweiler\"]},\"sex_upon_outcome\":\"Intact Male\",\"age_upon_outcome_in_weeks\":{\"$gte\":26},\"age_upon_outcome_in_weeks\":{\"$lte\":156}}))).drop('_id', axis = 1)\n",
    "    elif (int(bt3) > int(bt4)):\n",
    "        df = pd.DataFrame(list(shelter.read({\"animal_type\":\"Dog\"}))).drop('_id', axis = 1)\n",
    "    elif (int(bt4) > int(bt3)):\n",
    "        df = pd.DataFrame(list(shelter.read({\"animal_type\":\"Dog\", \"breed\":{\"$in\":[\"Doberman Pinscher\", \"German Shepard\",\"Golden Retriever\",\"Bloodhound\",\"Rottweiler\"]},\"sex_upon_outcome\":\"Intact Male\",\"age_upon_outcome_in_weeks\":{\"$gte\":20},\"age_upon_outcome_in_weeks\":{\"$lte\":300}}))).drop('_id', axis = 1)    \n",
    "        return df.to_dict('records')\n",
    "app"
   ]
  },
  {
   "cell_type": "code",
   "execution_count": 19,
   "metadata": {},
   "outputs": [
    {
     "data": {
      "text/plain": [
       "True"
      ]
     },
     "execution_count": 19,
     "metadata": {},
     "output_type": "execute_result"
    }
   ],
   "source": [
    "insertdata = {\"color\":\"Rainbow\", \"name\":\"Macho Man Randy Savage\"}\n",
    "shelter.create(insertdata)"
   ]
  },
  {
   "cell_type": "code",
   "execution_count": null,
   "metadata": {},
   "outputs": [],
   "source": []
  },
  {
   "cell_type": "code",
   "execution_count": null,
   "metadata": {},
   "outputs": [],
   "source": []
  }
 ],
 "metadata": {
  "kernelspec": {
   "display_name": "Python 3",
   "language": "python",
   "name": "python3"
  },
  "language_info": {
   "codemirror_mode": {
    "name": "ipython",
    "version": 3
   },
   "file_extension": ".py",
   "mimetype": "text/x-python",
   "name": "python",
   "nbconvert_exporter": "python",
   "pygments_lexer": "ipython3",
   "version": "3.6.9"
  }
 },
 "nbformat": 4,
 "nbformat_minor": 2
}
